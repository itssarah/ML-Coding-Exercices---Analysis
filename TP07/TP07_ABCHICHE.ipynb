{
  "cells": [
    {
      "cell_type": "markdown",
      "metadata": {
        "id": "tOPn7FGUbaoM"
      },
      "source": [
        "# 2CSSID-TP07. Sélection d'attributs"
      ]
    },
    {
      "cell_type": "markdown",
      "metadata": {
        "id": "DTF8cdx1baod"
      },
      "source": [
        "- Nom : ABCHICHE\n",
        "- Prénom : SARAH"
      ]
    },
    {
      "cell_type": "code",
      "execution_count": 2,
      "metadata": {
        "colab": {
          "base_uri": "https://localhost:8080/"
        },
        "id": "etD4ff_Lbaof",
        "outputId": "d4154214-3bfd-41e9-9d07-dad3cef8a269"
      },
      "outputs": [
        {
          "output_type": "execute_result",
          "data": {
            "text/plain": [
              "('1.19.5', '1.1.5', '3.2.2')"
            ]
          },
          "metadata": {},
          "execution_count": 2
        }
      ],
      "source": [
        "import matplotlib\n",
        "import numpy             as np\n",
        "import pandas            as pd\n",
        "import matplotlib.pyplot as plt\n",
        "%matplotlib inline\n",
        "\n",
        "np.__version__, pd.__version__, matplotlib.__version__"
      ]
    },
    {
      "cell_type": "code",
      "execution_count": null,
      "metadata": {
        "id": "YpXmc_tybaoq"
      },
      "outputs": [],
      "source": [
        "from typing          import Tuple, List, Type\n",
        "from collections.abc import Callable"
      ]
    },
    {
      "cell_type": "markdown",
      "metadata": {
        "id": "r2boxkqYbaos"
      },
      "source": [
        "## I. Réalisation des algorithmes\n",
        "\n",
        "Dans cette partie, on va implémenter deux fonctions de régularisation et deux fonctions de filtrage. \n",
        "La régularisation sera appliquée sur la régression logistique binaire dont le code est fourni ici.\n"
      ]
    },
    {
      "cell_type": "markdown",
      "metadata": {
        "id": "GpsRVHgvbaou"
      },
      "source": [
        "On va  essayer d'implémenter le filtrage des attributs (ANOVA : Analysis of Variance).\n",
        "Le nombre des échantillons pour chaque classe est différent. \n",
        "Pour cette raison, on va implémenter ANOVA for a CRD (COMPLETELY RANDOM DESIGN). \n",
        "On va implémenter l'algorithme expliqué dans [Richard Horsly (2012) COMPLETELY RANDOM DESIGN (CRD)](https://www.ndsu.edu/faculty/horsley/CRD.pdf). \n",
        "Pour valider l'implémentation, on va utiliser les mêmes données de la page 10.\n",
        "\n",
        "### I.1. One way F value pour un seul attribue\n",
        "\n",
        "pour un attribut donné ($A$), on divise l'ensemble de ses échantillons sur $N$ ensembles, où $N$ est le nombre des classes. \n",
        "\n",
        "$$CF = \\frac{(\\sum_{ij} A_{ij})^2}{\\sum_j |A_j|} $$\n",
        "Où $\\sum_{ij} A_{ij}$ est la somme de toutes les valeurs de toutes les classes, \n",
        "$\\sum_j |A_j|$ est le nombre total des échantillons (de toutes les classes)\n",
        "\n",
        "$$ TotalSS = \\sum_{ij} A_{ij}^2 - CF$$\n",
        "Où $\\sum_{ij} A_{ij}^2$ est les somme des carrées de toutes les valeurs\n",
        "\n",
        "$$ TreatmentSS = \\sum_j \\frac{(\\sum_{i} A_{ij})^2}{|A_j|} - CF$$\n",
        "Où $\\sum_{i} A_{ij}$ est la somme des valeurs de la classe $j$ et $|A_j|$ est le nombre des éléments dans la classe $j$\n",
        "\n",
        "$$ ErrorSS = TotalSS - TreatmentSS $$\n"
      ]
    },
    {
      "cell_type": "code",
      "execution_count": 3,
      "metadata": {
        "colab": {
          "base_uri": "https://localhost:8080/"
        },
        "id": "wSU8GvHCbaow",
        "outputId": "37d3e980-614f-4be9-aa7b-7c13d6b4e01f"
      },
      "outputs": [
        {
          "output_type": "execute_result",
          "data": {
            "text/plain": [
              "6.418894830659841"
            ]
          },
          "metadata": {},
          "execution_count": 3
        }
      ],
      "source": [
        "# TODO Compléter la fonction one-way ANOVA pour un attribut\n",
        "def f_oneway(A): \n",
        "    # A est une liste de N listes où N est le nombre des classes\n",
        "    # Ces listes n'ont pas la même taille\n",
        "    nbrs = np.array([len(a) for a in A]) # nombre des échantillons de chaque classe\n",
        "    sommes = np.array([np.sum(a) for a in A]) # somme des valeurs de chaque classe\n",
        "    sommes_caree = np.sum([np.sum(np.array(a)**2) for a in A]) # somme des valeurs carrées de toutes les valeurs\n",
        "    \n",
        "    # Compléter ici\n",
        "    #====================================\n",
        "    CF = np.sum(sommes)**2 / np.sum(nbrs)\n",
        "    TotalSS = np.sum(sommes_caree) - CF    \n",
        "    TreatmentSS = np.sum(sommes**2 / nbrs) - CF\n",
        "    ErrorSS = TotalSS - TreatmentSS\n",
        "    #====================================\n",
        "    \n",
        "    MSB = TreatmentSS / (len(A) - 1) \n",
        "    MSW =  ErrorSS/(nbrs.sum() - len(A))\n",
        "    return MSB/MSW\n",
        "\n",
        "\n",
        "#=====================================================================\n",
        "# TEST UNITAIRE\n",
        "#=====================================================================\n",
        "# Resultat : 6.418894830659841\n",
        "#---------------------------------------------------------------------\n",
        "\n",
        "AA = [[2., 2.2, 1.8, 2.3, 1.7], [1.7, 1.9, 1.5], [2., 2.4, 2.7, 2.5, 2.4], [2.1, 2.2, 2.2, 1.9]]\n",
        "# Résultat : 6.418894830659841 (voir page 11 step 6)\n",
        "f_oneway(AA)"
      ]
    },
    {
      "cell_type": "markdown",
      "metadata": {
        "id": "BWpjto31bao0"
      },
      "source": [
        "### I.2. One way F value pour tous les attribues\n",
        "\n",
        "Ici, on va calculer ANOVA pour chaque attribut. \n",
        "Les attributs avec des grandes valeurs ANOVA sont meilleurs. \n",
        "\n"
      ]
    },
    {
      "cell_type": "code",
      "execution_count": 9,
      "metadata": {
        "colab": {
          "base_uri": "https://localhost:8080/"
        },
        "id": "Lqu-LXoRbao8",
        "outputId": "b7a1c251-0614-422d-d8ff-e30f4813ddd2"
      },
      "outputs": [
        {
          "output_type": "execute_result",
          "data": {
            "text/plain": [
              "(array([  6.41889483,   0.40595497, 105.2745098 ]),\n",
              " array([  6.41889483,   0.40595497, 105.2745098 ]))"
            ]
          },
          "metadata": {},
          "execution_count": 9
        }
      ],
      "source": [
        "# TODO compléter la fonction anova pour plusieurs attributs\n",
        "def anova_f(X, Y): \n",
        "    \n",
        "    C = np.unique(Y)\n",
        "    F = []\n",
        "    # compléter ici\n",
        "    \n",
        "    A = [[c[:,i] for c in [X[Y == c] for c in C]] for i in range(0,X.shape[1])]\n",
        "    F = [ f_oneway(a) for a in A ]\n",
        "    return np.array(F)\n",
        "    \n",
        "\n",
        "\n",
        "#=====================================================================\n",
        "# TEST UNITAIRE\n",
        "#=====================================================================\n",
        "# Resultat : \n",
        "# (array([  6.41889483,   0.40595497, 105.2745098 ]),\n",
        "#  array([  6.41889483,   0.40595497, 105.2745098 ]))\n",
        "#---------------------------------------------------------------------\n",
        "\n",
        "X_t = np.array(\n",
        "    [[2. , 1. , 1. ],\n",
        "     [2.2, 2. , 1. ],\n",
        "     [1.8, 3. , 1. ],\n",
        "     [2.3, 4. , 1. ],\n",
        "     [1.7, 5. , 2. ],\n",
        "     [1.7, 1. , 2. ],\n",
        "     [1.9, 2. , 2. ],\n",
        "     [1.5, 3. , 2. ],\n",
        "     [2. , 1. , 3. ],\n",
        "     [2.4, 2. , 3. ],\n",
        "     [2.7, 3. , 3. ],\n",
        "     [2.5, 4. , 3. ],\n",
        "     [2.4, 5. , 3. ],\n",
        "     [2.1, 1. , 4. ],\n",
        "     [2.2, 2. , 4. ],\n",
        "     [2.2, 3. , 4. ],\n",
        "     [1.9, 4. , 4. ]])\n",
        "\n",
        "Y_t = np.array([\"A\", \"A\", \"A\", \"A\", \"A\", \"B\", \"B\", \"B\", \"C\", \"C\", \"C\", \"C\", \"C\", \"D\", \"D\", \"D\", \"D\"])\n",
        "\n",
        "# pour valider, on va utiliser f_classif de scikit-learn \n",
        "# https://github.com/scikit-learn/scikit-learn/blob/95d4f0841d57e8b5f6b2a570312e9d832e69debc/sklearn/feature_selection/_univariate_selection.py#L42\n",
        "from sklearn.feature_selection import f_classif\n",
        "f_sklearn, a = f_classif(X_t, Y_t)\n",
        "# la première liste est celle de scikit-learn et la deuxième est la notre\n",
        "f_notre = anova_f(X_t, Y_t)\n",
        "\n",
        "f_sklearn, f_notre"
      ]
    },
    {
      "cell_type": "markdown",
      "metadata": {
        "id": "K16_nuatbao_"
      },
      "source": [
        "## II. Application et analyse\n",
        "\n",
        "On va utiliser le dataset [Diabetics prediction using logistic regression](https://www.kaggle.com/kandij/diabetes-dataset). "
      ]
    },
    {
      "cell_type": "code",
      "execution_count": null,
      "metadata": {
        "id": "s0JtubUsbapA",
        "outputId": "fc0b510b-2121-40b9-f977-0e14b461548f"
      },
      "outputs": [
        {
          "data": {
            "text/html": [
              "<div>\n",
              "<style scoped>\n",
              "    .dataframe tbody tr th:only-of-type {\n",
              "        vertical-align: middle;\n",
              "    }\n",
              "\n",
              "    .dataframe tbody tr th {\n",
              "        vertical-align: top;\n",
              "    }\n",
              "\n",
              "    .dataframe thead th {\n",
              "        text-align: right;\n",
              "    }\n",
              "</style>\n",
              "<table border=\"1\" class=\"dataframe\">\n",
              "  <thead>\n",
              "    <tr style=\"text-align: right;\">\n",
              "      <th></th>\n",
              "      <th>Pregnancies</th>\n",
              "      <th>Glucose</th>\n",
              "      <th>BloodPressure</th>\n",
              "      <th>SkinThickness</th>\n",
              "      <th>Insulin</th>\n",
              "      <th>BMI</th>\n",
              "      <th>DiabetesPedigreeFunction</th>\n",
              "      <th>Age</th>\n",
              "      <th>Outcome</th>\n",
              "    </tr>\n",
              "  </thead>\n",
              "  <tbody>\n",
              "    <tr>\n",
              "      <th>0</th>\n",
              "      <td>6</td>\n",
              "      <td>148</td>\n",
              "      <td>72</td>\n",
              "      <td>35</td>\n",
              "      <td>0</td>\n",
              "      <td>33.6</td>\n",
              "      <td>0.627</td>\n",
              "      <td>50</td>\n",
              "      <td>1</td>\n",
              "    </tr>\n",
              "    <tr>\n",
              "      <th>1</th>\n",
              "      <td>1</td>\n",
              "      <td>85</td>\n",
              "      <td>66</td>\n",
              "      <td>29</td>\n",
              "      <td>0</td>\n",
              "      <td>26.6</td>\n",
              "      <td>0.351</td>\n",
              "      <td>31</td>\n",
              "      <td>0</td>\n",
              "    </tr>\n",
              "    <tr>\n",
              "      <th>2</th>\n",
              "      <td>8</td>\n",
              "      <td>183</td>\n",
              "      <td>64</td>\n",
              "      <td>0</td>\n",
              "      <td>0</td>\n",
              "      <td>23.3</td>\n",
              "      <td>0.672</td>\n",
              "      <td>32</td>\n",
              "      <td>1</td>\n",
              "    </tr>\n",
              "    <tr>\n",
              "      <th>3</th>\n",
              "      <td>1</td>\n",
              "      <td>89</td>\n",
              "      <td>66</td>\n",
              "      <td>23</td>\n",
              "      <td>94</td>\n",
              "      <td>28.1</td>\n",
              "      <td>0.167</td>\n",
              "      <td>21</td>\n",
              "      <td>0</td>\n",
              "    </tr>\n",
              "    <tr>\n",
              "      <th>4</th>\n",
              "      <td>0</td>\n",
              "      <td>137</td>\n",
              "      <td>40</td>\n",
              "      <td>35</td>\n",
              "      <td>168</td>\n",
              "      <td>43.1</td>\n",
              "      <td>2.288</td>\n",
              "      <td>33</td>\n",
              "      <td>1</td>\n",
              "    </tr>\n",
              "  </tbody>\n",
              "</table>\n",
              "</div>"
            ],
            "text/plain": [
              "   Pregnancies  Glucose  BloodPressure  SkinThickness  Insulin   BMI  \\\n",
              "0            6      148             72             35        0  33.6   \n",
              "1            1       85             66             29        0  26.6   \n",
              "2            8      183             64              0        0  23.3   \n",
              "3            1       89             66             23       94  28.1   \n",
              "4            0      137             40             35      168  43.1   \n",
              "\n",
              "   DiabetesPedigreeFunction  Age  Outcome  \n",
              "0                     0.627   50        1  \n",
              "1                     0.351   31        0  \n",
              "2                     0.672   32        1  \n",
              "3                     0.167   21        0  \n",
              "4                     2.288   33        1  "
            ]
          },
          "execution_count": 5,
          "metadata": {},
          "output_type": "execute_result"
        }
      ],
      "source": [
        "diabetes = pd.read_csv(\"data/diabetes2.csv\") \n",
        "X_diabetes = diabetes.iloc[:, :-1].values  \n",
        "Y_diabetes = diabetes.iloc[:, -1].values\n",
        "\n",
        "# Cette configuration est mise en place comme ceci exprès\n",
        "# C'est pour tester le cas où la régression est difavorisée\n",
        "NBR_TEST = 240\n",
        "# Supposant que les 30% premières lignes sont pour le test et le reste pour l'entraînement\n",
        "X_test = X_diabetes[-NBR_TEST:, :] # 30% ou plus\n",
        "Y_test = Y_diabetes[-NBR_TEST:]\n",
        "\n",
        "X_train = X_diabetes[:-NBR_TEST, :] \n",
        "Y_train = Y_diabetes[:-NBR_TEST]\n",
        "\n",
        "diabetes.head()"
      ]
    },
    {
      "cell_type": "markdown",
      "metadata": {
        "id": "P3hxv__XbapC"
      },
      "source": [
        "### II.1. Sélection d'attributs par filtrage (Choix ANOVA)\n",
        "\n",
        "Nous avons extrait les F values ANOVA pour les différents attributs. \n"
      ]
    },
    {
      "cell_type": "code",
      "execution_count": null,
      "metadata": {
        "id": "XKMPxEfTbapD",
        "outputId": "620b1cf2-0b4e-41e3-b31d-c9bd6d88a169"
      },
      "outputs": [
        {
          "data": {
            "image/png": "[encoded data removed]",
            "text/plain": [
              "<Figure size 1080x360 with 1 Axes>"
            ]
          },
          "metadata": {
            "needs_background": "light"
          },
          "output_type": "display_data"
        }
      ],
      "source": [
        "from sklearn.feature_selection import f_classif\n",
        "f, a = f_classif(X_train, Y_train)\n",
        "\n",
        "labels_diabetes = list(diabetes.columns[:-1])\n",
        "x_pos = range(len(f))\n",
        "plt.figure(figsize=(15,5))\n",
        "plt.bar(labels_diabetes, f, color=\"green\")\n",
        "plt.xlabel(\"Les attributs\")\n",
        "plt.ylabel(\"Valeur F de ANOVA\")\n",
        "plt.title(\"Comparison entre les attributs de diabetes2 en terme de ANOVA\")\n",
        "\n",
        "plt.xticks(x_pos, labels_diabetes)\n",
        "\n",
        "plt.show()\n"
      ]
    },
    {
      "cell_type": "markdown",
      "metadata": {
        "id": "_kYWLs5UbapE"
      },
      "source": [
        "**Analyser les résultats** \n",
        "\n",
        "- Quels sont les attributs les plus importants d'après F values ?\n",
        "- Pourquoi un attribut est considéré comme important dans ANOVA (aspect mathématique et logique : les valeurs de l'attribut et de la prédiction Y) ?\n",
        "\n",
        "**Réponse**\n",
        "\n",
        "- Les attributs les plus importants sont : glucose, bmi, pregnancies et age\n",
        "- Un attribut est considéré comme important s'il a un effet sur la sortie; la f-value est une mesure utilisé pour comparer la variance des moyennes des different groupes"
      ]
    },
    {
      "cell_type": "markdown",
      "metadata": {
        "id": "MHSBt5ktbapG"
      },
      "source": [
        "### II.2. Sélection d'attributs par filtrage (Convergence et performance)\n",
        "\n",
        "Ici, on va utiliser ANOVA pour pré-sélectionner les caractéristiques qui donnent 50% de variance. On veut comparer la convergence du modèle normal contre celui avec pré-sélection ANOVA."
      ]
    },
    {
      "cell_type": "code",
      "execution_count": null,
      "metadata": {
        "id": "SWkQESQabapH",
        "outputId": "dc4a1e07-691e-4286-f017-fac987a0fff8"
      },
      "outputs": [
        {
          "data": {
            "image/png": "[encoded data removed]",
            "text/plain": [
              "<Figure size 1440x720 with 2 Axes>"
            ]
          },
          "metadata": {
            "needs_background": "light"
          },
          "output_type": "display_data"
        }
      ],
      "source": [
        "from sklearn.feature_selection import SelectPercentile\n",
        "from sklearn.linear_model import LogisticRegression\n",
        "from sklearn.metrics import f1_score\n",
        "import warnings\n",
        "from sklearn.exceptions import ConvergenceWarning\n",
        "warnings.filterwarnings(\"ignore\", category=ConvergenceWarning)\n",
        "\n",
        "MAX_IT = 500\n",
        "\n",
        "\n",
        "selecteur = SelectPercentile(score_func=f_classif, percentile=50)\n",
        "X_train_new = selecteur.fit_transform(X_train, Y_train)\n",
        "X_test_new = selecteur.transform(X_test)\n",
        "\n",
        "\n",
        "reglog = LogisticRegression(penalty='none', solver=\"saga\", max_iter=1, warm_start=True, random_state=0)\n",
        "reglog.coef_ = np.array([[1.] * X_train.shape[1]])\n",
        "reglog.intercept_ = np.array([1.])\n",
        "\n",
        "reglog_anova = LogisticRegression(penalty='none', solver=\"saga\", max_iter=1, warm_start=True, random_state=0)\n",
        "reglog_anova.coef_ = np.array([[1.] * X_train_new.shape[1]])\n",
        "reglog_anova.intercept_ = np.array([1.])\n",
        "\n",
        "coefs_anova = []\n",
        "coefs0_anova =[]\n",
        "f1train_anova = []\n",
        "f1test_anova = []\n",
        "\n",
        "coefs = []\n",
        "coefs0 =[]\n",
        "f1train = []\n",
        "f1test = []\n",
        "\n",
        "for it in range(MAX_IT):\n",
        "    reglog_anova.fit(X_train_new, Y_train)\n",
        "    coefs_anova.append(reglog_anova.coef_.flatten().tolist())\n",
        "    coefs0_anova.append(reglog_anova.intercept_[0])\n",
        "    f1train_anova.append(f1_score(Y_train, reglog_anova.predict(X_train_new)))\n",
        "    f1test_anova.append(f1_score(Y_test, reglog_anova.predict(X_test_new)))\n",
        "    \n",
        "    reglog.fit(X_train, Y_train)\n",
        "    coefs.append(reglog.coef_.flatten().tolist())\n",
        "    coefs0.append(reglog.intercept_[0])\n",
        "    f1train.append(f1_score(Y_train, reglog.predict(X_train)))\n",
        "    f1test.append(f1_score(Y_test, reglog.predict(X_test)))\n",
        "\n",
        "coefs_anova = np.array(coefs_anova)\n",
        "\n",
        "fig, (ax1, ax2) = plt.subplots(1,2)\n",
        "fig.suptitle(\"F1 score par nombre des iterations\")\n",
        "fig.set_figwidth(20)\n",
        "fig.set_figheight(10)\n",
        "\n",
        "ax1.plot(range(MAX_IT), f1train, color=\"blue\", label=\"Reg\")\n",
        "ax1.plot(range(MAX_IT), f1train_anova, color=\"red\", label=\"Reg-ANOVA\")\n",
        "ax1.legend()\n",
        "ax1.set_title(\"Entrainement\")\n",
        "ax1.grid()\n",
        "\n",
        "ax2.plot(range(MAX_IT), f1test, color=\"blue\", label=\"Reg\")\n",
        "ax2.plot(range(MAX_IT), f1test_anova, color=\"red\", label=\"Reg-ANOVA\")\n",
        "ax2.legend()\n",
        "ax2.set_title(\"Test\")\n",
        "ax2.grid()\n",
        "\n",
        "plt.show()"
      ]
    },
    {
      "cell_type": "code",
      "execution_count": null,
      "metadata": {
        "id": "5dAlMXaBbapL",
        "outputId": "7ef6d542-1f74-4ad5-f170-0859f7e2a040"
      },
      "outputs": [
        {
          "data": {
            "image/png": "[encoded data removed]",
            "text/plain": [
              "<Figure size 432x288 with 1 Axes>"
            ]
          },
          "metadata": {
            "needs_background": "light"
          },
          "output_type": "display_data"
        }
      ],
      "source": [
        "labels_new = selecteur.transform(np.array(diabetes.columns[:-1]).reshape(1, len(diabetes.columns)-1)).flatten()\n",
        "\n",
        "for i in range(len(labels_new)): \n",
        "    plt.plot(range(MAX_IT), coefs_anova[:, i], label=labels_new[i])\n",
        "plt.plot(range(MAX_IT), coefs0_anova, label=\"Theta0\")\n",
        "plt.legend()\n",
        "plt.title(\"Regression+ANOVA\")\n",
        "plt.grid()\n",
        "plt.show()"
      ]
    },
    {
      "cell_type": "markdown",
      "metadata": {
        "id": "QvDjm_r8bapM"
      },
      "source": [
        "**Analyser les résultats** \n",
        "\n",
        "- Pourquoi la performance de la régression sans filtrage est meilleure dans l'entrainement et pas dans le test; et l'inverse pour la régression avec filtrage ? (P.S. on ne parle pas ici du sur-apprentissage; mais des attributs : nombre et qualité)\n",
        "- Est-ce que le filtrage PEUT prévenir le sur-apprentissage ? Si oui, comment ? Si non, pourquoi ?\n",
        "\n",
        "**Réponse**\n",
        "\n",
        "- La performance de la régression sans filtrage est meilleure dans l'entrainement car tout les attributs sont utilisés; sans perte d'information le modèle capture les relations du nuage des points à l'inverse de la régression avec filtrage où seulement certains attributs sont utilisés, ce qui implique une perte d'information et donc de une perte de performance. Par contre la régression avec filtrage est meilleure dans le test car la qualité des attributs utilisés est meilleure, fournissant des informations pertinantes, donc on aboutit à un modèle plus performant.\n",
        "- La sélection d'attributs est un moyen de réduire le nombre de caractéristiques et donc de réduire la complexité de calcul du modèle. Elle est souvent très utile pour surmonter le problème de l'overfitting. Elle nous aide à déterminer le plus petit ensemble de caractéristiques nécessaires pour prédire la variable de sortie avec une grande précision. En supprimant les attributs qui n'augmente pas nécessairement la performance du modèle, on réduit la complexité de ce dernier."
      ]
    },
    {
      "cell_type": "markdown",
      "metadata": {
        "id": "d5PgHln2bapN"
      },
      "source": [
        "### II.3. Comparaison entre les différentes approches de sélections d'attributs\n",
        "\n",
        "Ici, on veut comparer des modèles appartenant à des différentes approches de sélection d'attributs : \n",
        "- **ANOVA** : c'est une modèle qui utilise la sélection d'attributs par filtrage. Ici, on prend les attributs qui participent de 50% de la variance (4 attributs dans notre cas)\n",
        "- **L1** : c'est un modèle qui utilise la sélection d'attributs intégrée (embdded)\n",
        "- **FFS (Forward Features Selection)** : c'est un modèle qui utilise la sélection d'attributs enveloppante (wrapper). Il commence par tester un seul attribut et ajouter d'autres en validant la solution à chaque fois. Ici, nous avons choisi 4 attributs. \n",
        "- **BFE (Backward Features Elimination)** : c'est un modèle qui utilise la sélection d'attributs enveloppante (wrapper). Il commence par tester tous les attributs et éliminer d'autres en validant la solution à chaque fois. Ici, nous avons choisi 4 attributs. \n",
        "\n",
        "On veut tester les modèles par rapport à celui sans sélection d'attributs en se basant sur les critères suivants :\n",
        "- **F1 entrainement** : ici on veut répondre à la question \"combien un modèle peut-il converger vers sa solution ?\"\n",
        "- **F1 test** : ici on veut répondre à la question \"combien un modèle peut-il généraliser ?\"\n",
        "- **Nombre des itérations** : ici on veut répondre à la question \"combien faut-il d'itérations pour qu'un modèle converge ?\"\n",
        "- **Temps pré-entrainement** : ici on veut répondre à la question \"combien de temps faut-il pour préparer les attributs avant l'entrainement ?\"\n",
        "- **Temps entrainement** : ici on veut répondre à la question \"combien de temps faut-il pour l'entrainement ?\"\n",
        "\n",
        "*P.S. L'exécution prend un peu de temps*\n"
      ]
    },
    {
      "cell_type": "code",
      "execution_count": null,
      "metadata": {
        "id": "81wVTvm9bapP",
        "outputId": "b90ac98c-3ebb-4eb5-f992-e8e2d5d410f8"
      },
      "outputs": [
        {
          "data": {
            "text/html": [
              "<div>\n",
              "<style scoped>\n",
              "    .dataframe tbody tr th:only-of-type {\n",
              "        vertical-align: middle;\n",
              "    }\n",
              "\n",
              "    .dataframe tbody tr th {\n",
              "        vertical-align: top;\n",
              "    }\n",
              "\n",
              "    .dataframe thead th {\n",
              "        text-align: right;\n",
              "    }\n",
              "</style>\n",
              "<table border=\"1\" class=\"dataframe\">\n",
              "  <thead>\n",
              "    <tr style=\"text-align: right;\">\n",
              "      <th></th>\n",
              "      <th>Criteres</th>\n",
              "      <th>Reg</th>\n",
              "      <th>Reg+L1</th>\n",
              "      <th>ANOVA+Reg</th>\n",
              "      <th>FFS</th>\n",
              "      <th>BFE</th>\n",
              "    </tr>\n",
              "  </thead>\n",
              "  <tbody>\n",
              "    <tr>\n",
              "      <th>0</th>\n",
              "      <td>F1 Entrainement</td>\n",
              "      <td>0.465574</td>\n",
              "      <td>0.465574</td>\n",
              "      <td>0.381295</td>\n",
              "      <td>0.567568</td>\n",
              "      <td>0.585526</td>\n",
              "    </tr>\n",
              "    <tr>\n",
              "      <th>1</th>\n",
              "      <td>F1 Test</td>\n",
              "      <td>0.380165</td>\n",
              "      <td>0.380165</td>\n",
              "      <td>0.37931</td>\n",
              "      <td>0.564516</td>\n",
              "      <td>0.539683</td>\n",
              "    </tr>\n",
              "    <tr>\n",
              "      <th>2</th>\n",
              "      <td>Nombre des itérations</td>\n",
              "      <td>[1406]</td>\n",
              "      <td>[1404]</td>\n",
              "      <td>[167]</td>\n",
              "      <td>[5000]</td>\n",
              "      <td>[5000]</td>\n",
              "    </tr>\n",
              "    <tr>\n",
              "      <th>3</th>\n",
              "      <td>temps pré-entrainement</td>\n",
              "      <td>0</td>\n",
              "      <td>0</td>\n",
              "      <td>0.001401</td>\n",
              "      <td>15.230673</td>\n",
              "      <td>26.33361</td>\n",
              "    </tr>\n",
              "    <tr>\n",
              "      <th>4</th>\n",
              "      <td>temps entrainement</td>\n",
              "      <td>0.136229</td>\n",
              "      <td>0.157354</td>\n",
              "      <td>0.011052</td>\n",
              "      <td>0.332947</td>\n",
              "      <td>0.292366</td>\n",
              "    </tr>\n",
              "  </tbody>\n",
              "</table>\n",
              "</div>"
            ],
            "text/plain": [
              "                 Criteres       Reg    Reg+L1 ANOVA+Reg        FFS       BFE\n",
              "0         F1 Entrainement  0.465574  0.465574  0.381295   0.567568  0.585526\n",
              "1                 F1 Test  0.380165  0.380165   0.37931   0.564516  0.539683\n",
              "2   Nombre des itérations    [1406]    [1404]     [167]     [5000]    [5000]\n",
              "3  temps pré-entrainement         0         0  0.001401  15.230673  26.33361\n",
              "4      temps entrainement  0.136229  0.157354  0.011052   0.332947  0.292366"
            ]
          },
          "execution_count": 16,
          "metadata": {},
          "output_type": "execute_result"
        }
      ],
      "source": [
        "from sklearn.feature_selection import SequentialFeatureSelector\n",
        "import timeit\n",
        "\n",
        "CMAX_ITER = 5000\n",
        "creglog = LogisticRegression(penalty='none', solver=\"saga\", max_iter=CMAX_ITER)\n",
        "creglog_l1 = LogisticRegression(penalty='l1', solver=\"saga\", max_iter=CMAX_ITER)\n",
        "creglog_anova = LogisticRegression(penalty='none', solver=\"saga\", max_iter=CMAX_ITER)\n",
        "\n",
        "temps = {}\n",
        "temps_p = {}\n",
        "\n",
        "temps_debut = timeit.default_timer()\n",
        "creglog.fit(X_train, Y_train)\n",
        "temps[\"reg\"] = timeit.default_timer() - temps_debut\n",
        "\n",
        "\n",
        "temps_debut = timeit.default_timer()\n",
        "creglog_l1.fit(X_train, Y_train)\n",
        "temps[\"l1\"] = timeit.default_timer() - temps_debut\n",
        "\n",
        "temps_debut = timeit.default_timer()\n",
        "selecteur_anova = SelectPercentile(score_func=f_classif, percentile=50)\n",
        "X_train_anova= selecteur.fit_transform(X_train, Y_train)\n",
        "temps_p[\"anova\"] = timeit.default_timer() - temps_debut\n",
        "X_test_anova = selecteur.transform(X_test)\n",
        "temps_debut = timeit.default_timer()\n",
        "creglog_anova.fit(X_train_anova, Y_train)\n",
        "temps[\"anova\"] = timeit.default_timer() - temps_debut\n",
        "\n",
        "creglog_ffs = LogisticRegression(penalty='none', solver=\"saga\", max_iter=CMAX_ITER)\n",
        "temps_debut = timeit.default_timer()\n",
        "selecteur_ffs = SequentialFeatureSelector(creglog_ffs, n_features_to_select=4, direction=\"forward\")\n",
        "X_train_ffs = selecteur_ffs.fit_transform(X_train, Y_train)\n",
        "temps_p[\"ffs\"] = timeit.default_timer() - temps_debut\n",
        "X_test_ffs = selecteur_ffs.transform(X_test)\n",
        "temps_debut = timeit.default_timer()\n",
        "creglog_ffs.fit(X_train_ffs, Y_train)\n",
        "temps[\"ffs\"] = timeit.default_timer() - temps_debut\n",
        "\n",
        "creglog_bfe = LogisticRegression(penalty='none', solver=\"saga\", max_iter=CMAX_ITER)\n",
        "temps_debut = timeit.default_timer()\n",
        "selecteur_bfe = SequentialFeatureSelector(creglog_bfe, n_features_to_select=4, direction=\"backward\")\n",
        "X_train_bfe = selecteur_bfe.fit_transform(X_train, Y_train)\n",
        "temps_p[\"bfe\"] = timeit.default_timer() - temps_debut\n",
        "X_test_bfe = selecteur_bfe.transform(X_test)\n",
        "temps_debut = timeit.default_timer()\n",
        "creglog_bfe.fit(X_train_bfe, Y_train)\n",
        "temps[\"bfe\"] = timeit.default_timer() - temps_debut\n",
        "\n",
        "\n",
        "pd.DataFrame({\n",
        "    \"Criteres\" : [\"F1 Entrainement\", \"F1 Test\", \"Nombre des itérations\", \"temps pré-entrainement\", \"temps entrainement\"],\n",
        "    \"Reg\" : [f1_score(Y_train, creglog.predict(X_train)), \n",
        "             f1_score(Y_test, creglog.predict(X_test)),\n",
        "             creglog.n_iter_, 0, temps[\"reg\"]],\n",
        "    \"Reg+L1\" : [f1_score(Y_train, creglog_l1.predict(X_train)), \n",
        "                f1_score(Y_test, creglog_l1.predict(X_test)), \n",
        "                creglog_l1.n_iter_, 0, temps[\"l1\"]],\n",
        "    \"ANOVA+Reg\" : [f1_score(Y_train, creglog_anova.predict(X_train_anova)), \n",
        "                f1_score(Y_test, creglog_anova.predict(X_test_anova)), \n",
        "                creglog_anova.n_iter_, temps_p[\"anova\"], temps[\"anova\"]],\n",
        "    \"FFS\" : [f1_score(Y_train, creglog_ffs.predict(X_train_ffs)), \n",
        "                f1_score(Y_test, creglog_ffs.predict(X_test_ffs)), \n",
        "                creglog_ffs.n_iter_, temps_p[\"ffs\"], temps[\"ffs\"]],\n",
        "    \"BFE\" : [f1_score(Y_train, creglog_bfe.predict(X_train_bfe)), \n",
        "                f1_score(Y_test, creglog_bfe.predict(X_test_bfe)), \n",
        "                creglog_bfe.n_iter_, temps_p[\"bfe\"], temps[\"bfe\"]],\n",
        "})"
      ]
    },
    {
      "cell_type": "markdown",
      "metadata": {
        "id": "n8_72FCUbapR"
      },
      "source": [
        "**Analyser les résultats** \n",
        "\n",
        "- Pourquoi la sélection d'attributs envelopante prend plus de temps d'entrainement pourtant elle utilise moins d'attributs ? (en se basant sur les résultats)\n",
        "- Pourquoi la régression avec L1 prend plus de temps d'entrainement que la régression normale pourtant elle prend moins d'itérations ?\n",
        "- Pourquoi la sélection d'attributs enveloppante donne des performances mieux que celle par filtrage pourtant cette dernière sélectionne les meilleurs attributs en terme de corrélation ? (Dans notre cas, c'est le même nombre d'attributs = 4)\n",
        "- Si vous avez un dataset avec plusieurs attributs et une quantité énorme d'échantillons, proposer une solution avec moins de temps de pré-entrainement+entrainement et plus de performance (Par rapport à la solution sans sélection d'attributs) en se basant sur les résultats de cette expérimentation.\n",
        "\n",
        "**Réponse**\n",
        "\n",
        "- La sélection d'attributs envelopante prend plus de temps car il suit une approche de recherche exhaustive en évaluant toutes les combinaisons possibles de caractéristiques par rapport au critère d’évaluation.\n",
        "- La régression avec L1 prend plus de temps d'entrainement à cause du calcul du terme de régularisation\n",
        "- La sélection d'attributs enveloppante donne des performances mieux que celle par filtrage car elle choisit les attributs qui offrent la meilleure performance. Ces attributs peuvent ne pas etre les meilleurs en terme de corrélation\n",
        "- Sachant qu'avoir une quantité énorme de données améliore presque tout le temps les performance du modèle. Je propose l'utilisation de l'anova avec regréssion. En effet, c'est le modèle le moins couteux en temps d'après l'experementation précédante. Pour ce qui est de la performance, avec un grand dataset, on peut obtenir une score proche de celui des modèles plus performant comme le FFS, ie le modèle a beaucoup de chance pour converger vers la solution optimale"
      ]
    },
    {
      "cell_type": "code",
      "execution_count": null,
      "metadata": {
        "id": "ArIZON47bapS"
      },
      "outputs": [],
      "source": [
        ""
      ]
    }
  ],
  "metadata": {
    "kernelspec": {
      "display_name": "Python 3 (ipykernel)",
      "language": "python",
      "name": "python3"
    },
    "language_info": {
      "codemirror_mode": {
        "name": "ipython",
        "version": 3
      },
      "file_extension": ".py",
      "mimetype": "text/x-python",
      "name": "python",
      "nbconvert_exporter": "python",
      "pygments_lexer": "ipython3",
      "version": "3.10.1"
    },
    "colab": {
      "name": "TP07-ABCHICHE.ipynb",
      "provenance": [],
      "toc_visible": true,
      "collapsed_sections": []
    }
  },
  "nbformat": 4,
  "nbformat_minor": 0
}