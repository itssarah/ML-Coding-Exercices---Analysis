{
 "cells": [
  {
   "cell_type": "markdown",
   "metadata": {},
   "source": [
    "# AdaBoost Algorithm from scratch\n"
   ]
  },
  {
   "cell_type": "markdown",
   "metadata": {},
   "source": [
    "### 1. Implementation"
   ]
  },
  {
   "cell_type": "code",
   "execution_count": 1,
   "metadata": {},
   "outputs": [],
   "source": [
    "# calcul du taux de mal classé \n",
    "def erreur(y, y_pred, w_i):\n",
    "    return (sum(w_i * (np.not_equal(y, y_pred)).astype(int)))/sum(w_i)\n",
    "\n",
    "# calcul de alpha\n",
    "def alpha(error):\n",
    "    return np.log((1 - error) / error)\n",
    "\n",
    "# réajustation des poids\n",
    "def poids(w_i, alpha, y, y_pred):\n",
    "    return w_i * np.exp(alpha * (np.not_equal(y, y_pred)).astype(int))"
   ]
  },
  {
   "cell_type": "code",
   "execution_count": 2,
   "metadata": {},
   "outputs": [],
   "source": [
    "# Define AdaBoost class\n",
    "class AdaBoost:\n",
    "    \n",
    "    def __init__(self):\n",
    "        self.alphas = [] # liste des alphas\n",
    "        self.G_M = [] # liste des classifieurs\n",
    "        self.M = None # nb d'itérations\n",
    "        self.training_errors = [] # liste des erreurs\n",
    "        self.prediction_errors = []\n",
    "\n",
    "    def fit(self, X, y, M = 100):\n",
    "        \n",
    "        self.alphas = [] \n",
    "        self.training_errors = []\n",
    "        self.M = M\n",
    "\n",
    "        # boosting itérations \n",
    "        for m in range(0, M):\n",
    "            \n",
    "            # (a) ajuster la règle faible sur l'échantillon\n",
    "            if m == 0:\n",
    "                w_i = np.ones(len(y)) * 1 / len(y)  \n",
    "            else:\n",
    "                # réajustation \n",
    "                w_i = poids(w_i, alpha_m, y, y_pred)\n",
    "            \n",
    "            # Fit weak classifieur\n",
    "            G_m = DecisionTreeClassifier(max_depth = 1)     \n",
    "            G_m.fit(X, y, sample_weight = w_i)\n",
    "            y_pred = G_m.predict(X)\n",
    "            \n",
    "            self.G_M.append(G_m) \n",
    "\n",
    "            # (b) calcul de l'erreur\n",
    "            error_m = erreur(y, y_pred, w_i)\n",
    "            self.training_errors.append(error_m)\n",
    "\n",
    "            # (c) calcul de alpha\n",
    "            alpha_m = alpha(error_m)\n",
    "            self.alphas.append(alpha_m)\n",
    "\n",
    "        assert len(self.G_M) == len(self.alphas)\n",
    "        \n",
    "    def predict(self, X):\n",
    "\n",
    "        # Initialisationn dataframe avec les weak predictions pour chaque observation\n",
    "        weak_preds = pd.DataFrame(index = range(len(X)), columns = range(self.M)) \n",
    "\n",
    "        # Prediction de la classe pour chaque weak classifieur, pondéré par alpha_m\n",
    "        for m in range(self.M):\n",
    "            y_pred_m = self.G_M[m].predict(X) * self.alphas[m]\n",
    "            weak_preds.iloc[:,m] = y_pred_m\n",
    "\n",
    "        # Calcul de la prédiction finale\n",
    "        y_pred = (1 * np.sign(weak_preds.T.sum())).astype(int)\n",
    "\n",
    "        return y_pred"
   ]
  },
  {
   "cell_type": "markdown",
   "metadata": {},
   "source": [
    "### 2. Tests"
   ]
  },
  {
   "cell_type": "markdown",
   "metadata": {},
   "source": [
    "Dans ce qui suit, nous allons tester l'algorithme sur le Spambase dataset."
   ]
  },
  {
   "cell_type": "code",
   "execution_count": 3,
   "metadata": {},
   "outputs": [],
   "source": [
    "#importing libraries\n",
    "\n",
    "import numpy as np\n",
    "import pandas as pd\n",
    "from sklearn.tree import DecisionTreeClassifier\n",
    "from sklearn.model_selection import train_test_split\n",
    "from sklearn.metrics      import f1_score, accuracy_score"
   ]
  },
  {
   "cell_type": "code",
   "execution_count": 4,
   "metadata": {},
   "outputs": [],
   "source": [
    "\n",
    "# Dataset\n",
    "df = pd.read_csv('./spambase.data', header = None)\n",
    "\n",
    "# Column names\n",
    "names = pd.read_csv('./spambase.names', sep = ':', skiprows=range(0, 33), header = None)\n",
    "col_names = list(names[0])\n",
    "col_names.append('Spam')\n",
    "\n",
    "# Rename df columns\n",
    "df.columns = col_names\n",
    "\n",
    "# Convert classes in target variable to {-1, 1}\n",
    "df['Spam'] = df['Spam'] * 2 - 1\n",
    "\n",
    "# Train - test split\n",
    "X_train, X_test, y_train, y_test = train_test_split(df.drop(columns = 'Spam').values, \n",
    "                                                    df['Spam'].values, \n",
    "                                                    train_size = 3065, \n",
    "                                                    random_state = 2) "
   ]
  },
  {
   "cell_type": "code",
   "execution_count": 5,
   "metadata": {},
   "outputs": [],
   "source": [
    "\n",
    "\n",
    "# Fit model\n",
    "adb = AdaBoost()\n",
    "adb.fit(X_train, y_train, M = 400)\n",
    "\n",
    "# Predict on test set\n",
    "y_pred = adb.predict(X_test)\n",
    "\n",
    "train_accuracy = accuracy_score(y_train, adb.predict(X_train))\n",
    "test_accuracy = accuracy_score(y_test,  y_pred)"
   ]
  },
  {
   "cell_type": "code",
   "execution_count": 6,
   "metadata": {},
   "outputs": [
    {
     "data": {
      "text/plain": [
       "0.9507340946166395"
      ]
     },
     "execution_count": 6,
     "metadata": {},
     "output_type": "execute_result"
    }
   ],
   "source": [
    "train_accuracy"
   ]
  },
  {
   "cell_type": "code",
   "execution_count": 7,
   "metadata": {},
   "outputs": [
    {
     "data": {
      "text/plain": [
       "0.9440104166666666"
      ]
     },
     "execution_count": 7,
     "metadata": {},
     "output_type": "execute_result"
    }
   ],
   "source": [
    "test_accuracy"
   ]
  }
 ],
 "metadata": {
  "kernelspec": {
   "display_name": "Python 3",
   "language": "python",
   "name": "python3"
  },
  "language_info": {
   "codemirror_mode": {
    "name": "ipython",
    "version": 3
   },
   "file_extension": ".py",
   "mimetype": "text/x-python",
   "name": "python",
   "nbconvert_exporter": "python",
   "pygments_lexer": "ipython3",
   "version": "3.7.6"
  }
 },
 "nbformat": 4,
 "nbformat_minor": 4
}
